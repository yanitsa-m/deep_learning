{
 "cells": [
  {
   "cell_type": "markdown",
   "metadata": {},
   "source": [
    "## Tensorflow simple examples\n",
    "\n",
    "-  Note: I installed Tensorflow with pip install tensorflow and used version 1.2.1 for this course.\n"
   ]
  },
  {
   "cell_type": "markdown",
   "metadata": {},
   "source": [
    "#### Example 1: Simple hello world\n",
    "\n",
    "-  Tensorflow uses objects called *tensors* which encapsulate values such as integers, floats, and strings, and which can be seen in the first variable declaration for `hello_constant`.\n",
    "-  This is the result if we try to print the variable `hello_constant`:\n",
    "        Tensor(\"Const_3:0\", shape=(), dtype=string)\n",
    "-  This variable is a constant 0-dimensional tensor object of type string.\n",
    "-  We can display the actual string value by creating and running a Session object which will evaluate the tensor string object.\n",
    "-  To run the program we instantiate the Session object called `sess` for convenience, from which we can use the command `run` to make the new variable `output` equal to our `hello_world` constant, and then finally we print the value of `output`.\n",
    "-  This will result in the output `\"Hello World!\"`\n",
    "-  By using the syntax `with...as` the program also automatically closes the sesion object when execution is done.\n"
   ]
  },
  {
   "cell_type": "code",
   "execution_count": 1,
   "metadata": {},
   "outputs": [
    {
     "name": "stdout",
     "output_type": "stream",
     "text": [
      "b'Hello World!'\n"
     ]
    }
   ],
   "source": [
    "import tensorflow as tf\n",
    "\n",
    "# Create TensorFlow object called tensor\n",
    "hello_constant = tf.constant('Hello World!')\n",
    "\n",
    "with tf.Session() as sess:\n",
    "    # Run the tf.constant operation in the session\n",
    "    output = sess.run(hello_constant)\n",
    "    print(output)\n",
    "    "
   ]
  },
  {
   "cell_type": "markdown",
   "metadata": {},
   "source": [
    "#### Example 2: Placeholders\n",
    "\n",
    "-  An important concept in Tensorflow is the `tf.placeholder()` which returns a tensor that gets its value from data passed to the `tf.session.run()` function, allowing you to set the input right before the session runs.\n",
    "-  Often we use datasets containing data of different types so placeholders allow flexibility with using variabale input data.\n",
    "-  In the example below, the placeholder takes an int32 type value. When the session is running, we use a `feed_dict` to feed actual values into the placeholder object called `x` , and here we pass the number `123`. \n",
    "-  Note: if we try to pass a value of a type other than the specified int32, this will result in an error!"
   ]
  },
  {
   "cell_type": "code",
   "execution_count": 8,
   "metadata": {
    "collapsed": true
   },
   "outputs": [],
   "source": [
    "def run():\n",
    "    output = None\n",
    "    x = tf.placeholder(tf.int32)\n",
    "\n",
    "    with tf.Session() as sess:\n",
    "        # TODO: Feed the x tensor 123\n",
    "        output = sess.run(x, feed_dict={x: 123})\n",
    "        print(output)\n"
   ]
  },
  {
   "cell_type": "markdown",
   "metadata": {},
   "source": [
    "#### Example 3: Math functions\n",
    "\n",
    "-  This examples shows how to use some basic math fucntions and also type casting - this is useful for getting data to be of the same type."
   ]
  },
  {
   "cell_type": "code",
   "execution_count": 3,
   "metadata": {},
   "outputs": [
    {
     "name": "stdout",
     "output_type": "stream",
     "text": [
      "4.0\n"
     ]
    }
   ],
   "source": [
    "# This program will subtract 1 from the result of dividing x by y, and store this answer in z. \n",
    "# We also cast 1 as a float64 which will make z into a float value.\n",
    "x = tf.constant(10)\n",
    "y = tf.constant(2)\n",
    "z = tf.subtract(tf.divide(x,y),tf.cast(tf.constant(1), tf.float64))\n",
    "\n",
    "# TODO: Print z from a session\n",
    "with tf.Session() as sess:\n",
    "    output = sess.run(z)\n",
    "    print(output)\n"
   ]
  },
  {
   "cell_type": "markdown",
   "metadata": {},
   "source": [
    "#### Example 4: Variables\n",
    "\n",
    "-  Another object is the `tf.Variable()` which is a class that creates a tensor with an initial value that can be modified.\n",
    "-  This tensor stores its state in the session, so we must initialize the state of the tensor manually. The `tf.global_variables_initializer()` function is used to initialize the state of all the Variable tensors."
   ]
  },
  {
   "cell_type": "code",
   "execution_count": 9,
   "metadata": {
    "collapsed": true
   },
   "outputs": [],
   "source": [
    "init = tf.global_variables_initializer()\n",
    "\n",
    "with tf.Session() as sess:\n",
    "    sess.run(init)"
   ]
  }
 ],
 "metadata": {
  "kernelspec": {
   "display_name": "Python 3",
   "language": "python",
   "name": "python3"
  },
  "language_info": {
   "codemirror_mode": {
    "name": "ipython",
    "version": 3
   },
   "file_extension": ".py",
   "mimetype": "text/x-python",
   "name": "python",
   "nbconvert_exporter": "python",
   "pygments_lexer": "ipython3",
   "version": "3.5.2"
  },
  "widgets": {
   "state": {},
   "version": "1.1.2"
  }
 },
 "nbformat": 4,
 "nbformat_minor": 2
}
