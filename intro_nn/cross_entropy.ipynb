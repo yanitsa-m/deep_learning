{
 "cells": [
  {
   "cell_type": "markdown",
   "metadata": {},
   "source": [
    "## Cross entropy\n",
    "\n",
    "-  A simple way to understand cross entropy is to consider having a set of events and set of probabilities, and posing the question - how likely is it that these events happened based on these probabilities? If the answer is very likely, then the cross entropy is *small* , otherwise it is large.\n",
    "-  To calculate cross entropy, we take the sum of the negatives of the logarithms of the probabilities.\n",
    "-  Using the sum of logarithms allows us to avoid taking the product of probabilities which could result in a very small quanitity.\n",
    "-  Since the log of a number between 0 and 1 (since we are using only these kinds of values) is always negative, we in turn have take the negative of the log of the probability.\n",
    "-  A low cross entropy indicates a good model - this is because a good model gives a high probability, but we are actually taking the negative log of that high number which results in a small number!\n",
    "-  This also applies to the individual points, correctly classified points will have smaller values or errors.\n",
    "-  The cross entropy can be extended for a multi class problem as well."
   ]
  },
  {
   "cell_type": "code",
   "execution_count": null,
   "metadata": {
    "collapsed": true
   },
   "outputs": [],
   "source": [
    "import numpy as np\n",
    "\n",
    "# Write a function that takes as input two lists Y, P,\n",
    "# and returns the float corresponding to their cross-entropy.\n",
    "def cross_entropy(Y, P):\n",
    "    Y = np.float_(Y)\n",
    "    P = np.float_(P)\n",
    "    return -np.sum(Y * np.log(P) + (1 - Y) * np.log(1 - P))"
   ]
  }
 ],
 "metadata": {
  "kernelspec": {
   "display_name": "Python 3",
   "language": "python",
   "name": "python3"
  },
  "language_info": {
   "codemirror_mode": {
    "name": "ipython",
    "version": 3
   },
   "file_extension": ".py",
   "mimetype": "text/x-python",
   "name": "python",
   "nbconvert_exporter": "python",
   "pygments_lexer": "ipython3",
   "version": "3.5.2"
  },
  "widgets": {
   "state": {},
   "version": "1.1.2"
  }
 },
 "nbformat": 4,
 "nbformat_minor": 2
}
