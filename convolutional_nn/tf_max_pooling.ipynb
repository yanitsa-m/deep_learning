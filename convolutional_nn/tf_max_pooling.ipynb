{
 "cells": [
  {
   "cell_type": "markdown",
   "metadata": {},
   "source": [
    "## Max Pooling in Tensorflow\n",
    "\n",
    "-  A common architecture for CNN is layers alternative between MP and convolutions with fully connected layers at the top.\n",
    "-  A pooling layer acts to *decrease the size of the output and prevent overfitting*. Reducing overfitting is a consequence of the reducing the output size, which in turn, reduces the number of parameters in future layers.\n",
    "-  Recently, pooling layers have fallen out of favor. Some reasons are:\n",
    "\n",
    "    Recent datasets are so big and complex we're more concerned about underfitting. <br />\n",
    "    Dropout is a much better regularizer. <br />\n",
    "    Pooling results in a loss of information. Think about the max pooling operation as an example. We only keep the largest of n numbers, thereby disregarding n-1 numbers completely."
   ]
  },
  {
   "cell_type": "markdown",
   "metadata": {},
   "source": [
    "\n",
    "-  Pooling means to take all convolutions in a neighborhood and combine them. \n",
    "-  Most common way is **max pooling** - at every point on feature map, look at small neighborhood around that point and compute maximum of all responses around it.\n",
    "-  Advantages of max pooling: it doesn't add parameters and risk increase in overfitting, it often yields a more accurate model. However, model is more expensive to compute and more hyperparameters (pooling region size and pooling stride).\n",
    "- Conceptually, the benefit of the max pooling operation is to reduce the size of the input, and allow the neural network to focus on only the most important elements. Max pooling does this by only retaining the maximum value for each filtered area, and removing the remaining values.\n",
    "-  Another form is **average pooling** - instead of taking the max, take an average over a window of pixels at a location. Similar to providing blurred low-res view of feature map below."
   ]
  },
  {
   "cell_type": "markdown",
   "metadata": {},
   "source": [
    "- TensorFlow provides the `tf.nn.max_pool()` function to apply max pooling to convolutional layers.\n",
    "-  The `tf.nn.max_pool()` function performs max pooling with the ksize parameter as the size of the filter and the strides parameter as the length of the stride. 2x2 filters with a stride of 2x2 are common in practice.\n",
    "\n",
    "-  The `ksize` and `strides` parameters are structured as 4-element lists, with each element corresponding to a dimension of the input tensor `([batch, height, width, channels])`. \n",
    "-  For both `ksize` and `strides`, the batch and channel dimensions are typically set to 1."
   ]
  },
  {
   "cell_type": "code",
   "execution_count": null,
   "metadata": {
    "collapsed": true
   },
   "outputs": [],
   "source": [
    "#...\n",
    "conv_layer = tf.nn.conv2d(input, weight, strides=[1, 2, 2, 1], padding='SAME')\n",
    "conv_layer = tf.nn.bias_add(conv_layer, bias)\n",
    "conv_layer = tf.nn.relu(conv_layer)\n",
    "# Apply Max Pooling\n",
    "conv_layer = tf.nn.max_pool(\n",
    "    conv_layer,\n",
    "    ksize = [1, 2, 2, 1],\n",
    "    strides = [1, 2, 2, 1],\n",
    "    padding = 'SAME')"
   ]
  }
 ],
 "metadata": {
  "kernelspec": {
   "display_name": "Python 3",
   "language": "python",
   "name": "python3"
  },
  "language_info": {
   "codemirror_mode": {
    "name": "ipython",
    "version": 3
   },
   "file_extension": ".py",
   "mimetype": "text/x-python",
   "name": "python",
   "nbconvert_exporter": "python",
   "pygments_lexer": "ipython3",
   "version": "3.5.2"
  },
  "widgets": {
   "state": {},
   "version": "1.1.2"
  }
 },
 "nbformat": 4,
 "nbformat_minor": 2
}
